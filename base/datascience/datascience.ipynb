{
 "cells": [
  {
   "cell_type": "markdown",
   "metadata": {},
   "source": [
    "# Manipuler des tableaux avec NumPy.\n",
    "\n",
    "Diminutif de ***Numerical Python***, elle fournit un ensemble de fonctions pour effectuer efficacement des opérations sur les données, mais propose également un objet qui est au cœur de presque tout l’écosystème data en Python : **l’array**.\n",
    "\n",
    "## Différenciez les arrays des listes classiques\n",
    "\n",
    "Le tableau NumPy, ou array, en anglais, est d’une certaine manière similaire à une liste Python. \n",
    "Son avantage ? Il permet d’effectuer simplement et rapidement de nombreuses opérations complexes, en plus de faciliter le stockage et la manipulation des données."
   ]
  },
  {
   "cell_type": "code",
   "execution_count": 14,
   "metadata": {},
   "outputs": [
    {
     "name": "stdout",
     "output_type": "stream",
     "text": [
      "2134.4\n"
     ]
    }
   ],
   "source": [
    "# Fonction qui fait la moyenne d'une liste :\n",
    "def moyenne(liste):\n",
    "    return sum(liste)/len(liste)\n",
    "\n",
    "revenus = [1800, 1500, 2200, 3000, 2172]\n",
    "print(moyenne(revenus))"
   ]
  },
  {
   "cell_type": "markdown",
   "metadata": {},
   "source": [
    "On estime qu’à mesure que la taille du tableau augmente, des opérations via array NumPy deviennent **environ 30 fois plus rapides** que via une liste Python classique. \n",
    "\n",
    "Cette différence aussi importante s’explique par le fait que les arrays NumPy ne peuvent contenir qu’un seul et même type. En effet, contrairement à une liste classique où l’on peut stocker tous types d’objets, NumPy n’acceptera qu’un seul type en entrée.\n",
    "- ```np.mean()``` retourne la moyenne de la liste."
   ]
  },
  {
   "cell_type": "code",
   "execution_count": 17,
   "metadata": {},
   "outputs": [
    {
     "name": "stdout",
     "output_type": "stream",
     "text": [
      "2134.4\n"
     ]
    }
   ],
   "source": [
    "import numpy as np\n",
    "\n",
    "revenus = [1800, 1500, 2200, 3000, 2172]\n",
    "\n",
    "print(np.mean(revenus))"
   ]
  },
  {
   "cell_type": "markdown",
   "metadata": {},
   "source": [
    "NumPy donne également accès à de nombreuses autres fonctions mathématiques indispensables, applicables à des arrays ou même à des listes :"
   ]
  },
  {
   "cell_type": "code",
   "execution_count": null,
   "metadata": {},
   "outputs": [],
   "source": [
    "x = [-2, -1, 1, 2]\n",
    "\n",
    "print(\"La valeur absolue: \", np.abs(x))\n",
    "print(\"Exponentielle: \", np.exp(x))\n",
    "print(\"Logarithme: \", np.log(np.abs(x)))"
   ]
  },
  {
   "cell_type": "markdown",
   "metadata": {},
   "source": [
    "## Créez un array NumPy\n",
    "\n",
    "on peux faire cela de différentes façons, mais la plus simple est de le faire… à partir d’une liste Python classique :"
   ]
  },
  {
   "cell_type": "code",
   "execution_count": 36,
   "metadata": {},
   "outputs": [
    {
     "data": {
      "text/plain": [
       "array([1800, 1500, 2200, 3000, 2172])"
      ]
     },
     "execution_count": 36,
     "metadata": {},
     "output_type": "execute_result"
    }
   ],
   "source": [
    "revenus = [1800, 1500, 2200, 3000, 2172]\n",
    "\n",
    "revenus_array = np.array(revenus)\n",
    "revenus_array"
   ]
  },
  {
   "cell_type": "markdown",
   "metadata": {},
   "source": [
    "\n",
    "> Si dans la liste de départ il y a des données de types différents, *NumPy essaiera de tous les convertir au type le plus général*.\n",
    "> Par exemple, si un tableau contient des entiers ```int``` et des nombres décimaux ```float```, tous ses éléments seront convertis en nombres décimaux ```float```."
   ]
  },
  {
   "cell_type": "markdown",
   "metadata": {},
   "source": [
    "Il existe également des fonctions NumPy permettant de créer des arrays selon un certain pattern ou une spécification particulière :"
   ]
  },
  {
   "cell_type": "code",
   "execution_count": 35,
   "metadata": {},
   "outputs": [
    {
     "name": "stdout",
     "output_type": "stream",
     "text": [
      "Fait un array de n elements mis a 0: [0. 0. 0. 0. 0. 0. 0.]\n",
      "Fait un array de n elements mis a 1: [1. 1. 1. 1. 1. 1. 1.]\n",
      "Fait un array de 0 a n elements par pas de 2: [0 2 4 6]\n",
      "Fait un array de n valeurs espacées uniformément entre 1 et 9: [1. 5. 9.]\n"
     ]
    }
   ],
   "source": [
    "n = 7\n",
    "\n",
    "print(f\"Fait un array de n elements mis a 0: {np.zeros(n)}\")\n",
    "print(f\"Fait un array de n elements mis a 1: {np.ones(n)}\")\n",
    "print(f\"Fait un array de 0 a n elements par pas de 2: {np.arange(0, n, 2)}\")\n",
    "print(f\"Fait un array de 3 valeurs espacées uniformément entre 1 et 9: {np.linspace(1, 9, 3)}\")"
   ]
  },
  {
   "cell_type": "markdown",
   "metadata": {},
   "source": [
    "On peux accéder au type des éléments d’un array via la méthode ```.dtype``` :"
   ]
  },
  {
   "cell_type": "code",
   "execution_count": 37,
   "metadata": {},
   "outputs": [
    {
     "data": {
      "text/plain": [
       "dtype('int64')"
      ]
     },
     "execution_count": 37,
     "metadata": {},
     "output_type": "execute_result"
    }
   ],
   "source": [
    "revenus_array.dtype"
   ]
  },
  {
   "cell_type": "markdown",
   "metadata": {},
   "source": [
    ">[!NOTES]\n",
    "> Les types en NumPy seront toujours présentés via deux informations :\n",
    "> le type (ici int ) ;\n",
    "> la précision (ici 64 ).\n",
    "> Cette dernière correspond au nombre de bits sur lesquels sont codés les nombres, définissant ainsi les différentes valeurs possibles. Par exemple, un int8  (entier codé sur 8 bits) pourra prendre des valeurs de -128 à 127 !"
   ]
  },
  {
   "cell_type": "markdown",
   "metadata": {},
   "source": [
    "------------------------------------------------------------\n",
    "# Créer des data frames avec Pandas."
   ]
  },
  {
   "cell_type": "markdown",
   "metadata": {},
   "source": [
    "------------------------------------------------------------\n",
    "# Construire des data visualisations avec Matplotlib et Seaborn."
   ]
  }
 ],
 "metadata": {
  "kernelspec": {
   "display_name": "Python 3",
   "language": "python",
   "name": "python3"
  },
  "language_info": {
   "codemirror_mode": {
    "name": "ipython",
    "version": 3
   },
   "file_extension": ".py",
   "mimetype": "text/x-python",
   "name": "python",
   "nbconvert_exporter": "python",
   "pygments_lexer": "ipython3",
   "version": "3.12.7"
  }
 },
 "nbformat": 4,
 "nbformat_minor": 2
}
