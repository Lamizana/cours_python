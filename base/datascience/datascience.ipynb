{
 "cells": [
  {
   "cell_type": "markdown",
   "metadata": {},
   "source": [
    "# Manipuler des tableaux avec NumPy.\n",
    "\n",
    "Diminutif de ***Numerical Python***, elle fournit un ensemble de fonctions pour effectuer efficacement des opérations sur les données, mais propose également un objet qui est au cœur de presque tout l’écosystème data en Python : **l’array**."
   ]
  },
  {
   "cell_type": "code",
   "execution_count": 14,
   "metadata": {},
   "outputs": [
    {
     "name": "stdout",
     "output_type": "stream",
     "text": [
      "2134.4\n"
     ]
    }
   ],
   "source": [
    "# Fonction qui fait la moyenne d'une liste :\n",
    "def moyenne(liste):\n",
    "    return sum(liste)/len(liste)\n",
    "\n",
    "revenus = [1800, 1500, 2200, 3000, 2172]\n",
    "print(moyenne(revenus))"
   ]
  },
  {
   "cell_type": "markdown",
   "metadata": {},
   "source": [
    "On estime qu’à mesure que la taille du tableau augmente, des opérations via array NumPy deviennent **environ 30 fois plus rapides** que via une liste Python classique. \n",
    "\n",
    "Cette différence aussi importante s’explique par le fait que les arrays NumPy ne peuvent contenir qu’un seul et même type. En effet, contrairement à une liste classique où l’on peut stocker tous types d’objets, NumPy n’acceptera qu’un seul type en entrée.\n",
    "- ```np.mean()``` retourne la moyenne de la liste."
   ]
  },
  {
   "cell_type": "code",
   "execution_count": 17,
   "metadata": {},
   "outputs": [
    {
     "name": "stdout",
     "output_type": "stream",
     "text": [
      "2134.4\n"
     ]
    }
   ],
   "source": [
    "import numpy as np\n",
    "\n",
    "revenus = [1800, 1500, 2200, 3000, 2172]\n",
    "\n",
    "print(np.mean(revenus))"
   ]
  },
  {
   "cell_type": "markdown",
   "metadata": {},
   "source": [
    "NumPy donne également accès à de nombreuses autres fonctions mathématiques indispensables, applicables à des arrays ou même à des listes :"
   ]
  },
  {
   "cell_type": "code",
   "execution_count": null,
   "metadata": {},
   "outputs": [],
   "source": [
    "x = [-2, -1, 1, 2]\n",
    "\n",
    "print(\"La valeur absolue: \", np.abs(x))\n",
    "print(\"Exponentielle: \", np.exp(x))\n",
    "print(\"Logarithme: \", np.log(np.abs(x)))"
   ]
  },
  {
   "cell_type": "markdown",
   "metadata": {},
   "source": [
    "## Créez un array NumPy\n",
    "\n",
    "on peux faire cela de différentes façons, mais la plus simple est de le faire… à partir d’une liste Python classique :"
   ]
  },
  {
   "cell_type": "code",
   "execution_count": null,
   "metadata": {},
   "outputs": [],
   "source": [
    "revenus = [1800, 1500, 2200, 3000, 2172]\n",
    "\n",
    "revenus_array = np.array(revenus)\n",
    "revenus_array"
   ]
  },
  {
   "cell_type": "markdown",
   "metadata": {},
   "source": [
    "\n",
    "> Si dans la liste de départ il y a des données de types différents, *NumPy essaiera de tous les convertir au type le plus général*.\n",
    "> Par exemple, si un tableau contient des entiers ```int``` et des nombres décimaux ```float```, tous ses éléments seront convertis en nombres décimaux ```float```."
   ]
  },
  {
   "cell_type": "markdown",
   "metadata": {},
   "source": [
    "------------------------------------------------------------\n",
    "# Créer des data frames avec Pandas."
   ]
  },
  {
   "cell_type": "markdown",
   "metadata": {},
   "source": [
    "------------------------------------------------------------\n",
    "# Construire des data visualisations avec Matplotlib et Seaborn."
   ]
  }
 ],
 "metadata": {
  "kernelspec": {
   "display_name": "Python 3",
   "language": "python",
   "name": "python3"
  },
  "language_info": {
   "codemirror_mode": {
    "name": "ipython",
    "version": 3
   },
   "file_extension": ".py",
   "mimetype": "text/x-python",
   "name": "python",
   "nbconvert_exporter": "python",
   "pygments_lexer": "ipython3",
   "version": "3.12.7"
  }
 },
 "nbformat": 4,
 "nbformat_minor": 2
}
