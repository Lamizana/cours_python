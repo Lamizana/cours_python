{
 "cells": [
  {
   "cell_type": "markdown",
   "metadata": {},
   "source": [
    "# Manipuler des tableaux avec NumPy.\n",
    "\n",
    "Diminutif de ***Numerical Python***, elle fournit un ensemble de fonctions pour effectuer efficacement des opérations sur les données, mais propose également un objet qui est au cœur de presque tout l’écosystème data en Python : **l’array**.\n",
    "\n",
    "## Différenciez les arrays des listes classiques\n",
    "\n",
    "Le tableau NumPy, ou array, en anglais, est d’une certaine manière similaire à une liste Python. \n",
    "Son avantage ? Il permet d’effectuer simplement et rapidement de nombreuses opérations complexes, en plus de faciliter le stockage et la manipulation des données."
   ]
  },
  {
   "cell_type": "code",
   "execution_count": null,
   "metadata": {},
   "outputs": [],
   "source": [
    "# Pour installer numpy :\n",
    "pip install numpy"
   ]
  },
  {
   "cell_type": "code",
   "execution_count": null,
   "metadata": {},
   "outputs": [],
   "source": [
    "# Fonction qui fait la moyenne d'une liste :\n",
    "def moyenne(liste):\n",
    "    return sum(liste)/len(liste)\n",
    "\n",
    "revenus = [1800, 1500, 2200, 3000, 2172]\n",
    "print(moyenne(revenus))"
   ]
  },
  {
   "cell_type": "markdown",
   "metadata": {},
   "source": [
    "On estime qu’à mesure que la taille du tableau augmente, des opérations via array NumPy deviennent **environ 30 fois plus rapides** que via une liste Python classique. \n",
    "\n",
    "Cette différence aussi importante s’explique par le fait que les arrays NumPy ne peuvent contenir qu’un seul et même type. En effet, contrairement à une liste classique où l’on peut stocker tous types d’objets, NumPy n’acceptera qu’un seul type en entrée.\n",
    "- ```np.mean()``` retourne la moyenne de la liste."
   ]
  },
  {
   "cell_type": "code",
   "execution_count": 2,
   "metadata": {},
   "outputs": [
    {
     "name": "stdout",
     "output_type": "stream",
     "text": [
      "2134.4\n"
     ]
    }
   ],
   "source": [
    "import numpy as np\n",
    "\n",
    "revenus = [1800, 1500, 2200, 3000, 2172]\n",
    "\n",
    "print(np.mean(revenus))"
   ]
  },
  {
   "cell_type": "markdown",
   "metadata": {},
   "source": [
    "NumPy donne également accès à de nombreuses autres fonctions mathématiques indispensables, applicables à des arrays ou même à des listes :"
   ]
  },
  {
   "cell_type": "code",
   "execution_count": 3,
   "metadata": {},
   "outputs": [
    {
     "name": "stdout",
     "output_type": "stream",
     "text": [
      "La valeur absolue:  [2 1 1 2]\n",
      "Exponentielle:  [0.13533528 0.36787944 2.71828183 7.3890561 ]\n",
      "Logarithme:  [0.69314718 0.         0.         0.69314718]\n"
     ]
    }
   ],
   "source": [
    "x = [-2, -1, 1, 2]\n",
    "\n",
    "print(\"La valeur absolue: \", np.abs(x))\n",
    "print(\"Exponentielle: \", np.exp(x))\n",
    "print(\"Logarithme: \", np.log(np.abs(x)))"
   ]
  },
  {
   "cell_type": "markdown",
   "metadata": {},
   "source": [
    "## Créez un array NumPy\n",
    "\n",
    "on peux faire cela de différentes façons, mais la plus simple est de le faire… à partir d’une liste Python classique :"
   ]
  },
  {
   "cell_type": "code",
   "execution_count": null,
   "metadata": {},
   "outputs": [],
   "source": [
    "revenus = [1800, 1500, 2200, 3000, 2172]\n",
    "\n",
    "revenus_array = np.array(revenus)\n",
    "revenus_array"
   ]
  },
  {
   "cell_type": "markdown",
   "metadata": {},
   "source": [
    "\n",
    "> Si dans la liste de départ il y a des données de types différents, *NumPy essaiera de tous les convertir au type le plus général*.\n",
    "> Par exemple, si un tableau contient des entiers ```int``` et des nombres décimaux ```float```, tous ses éléments seront convertis en nombres décimaux ```float```."
   ]
  },
  {
   "cell_type": "markdown",
   "metadata": {},
   "source": [
    "Il existe également des fonctions NumPy permettant de créer des arrays selon un certain pattern ou une spécification particulière :"
   ]
  },
  {
   "cell_type": "code",
   "execution_count": null,
   "metadata": {},
   "outputs": [],
   "source": [
    "n = 7\n",
    "\n",
    "print(f\"Fait un array de n elements mis a 0: {np.zeros(n)}\")\n",
    "print(f\"Fait un array de n elements mis a 1: {np.ones(n)}\")\n",
    "print(f\"Fait un array de 0 a n elements par pas de 2: {np.arange(0, n, 2)}\")\n",
    "print(f\"Fait un array de 3 valeurs espacées uniformément entre 1 et 9: {np.linspace(1, 9, 3)}\")"
   ]
  },
  {
   "cell_type": "markdown",
   "metadata": {},
   "source": [
    "On peux accéder au type des éléments d’un array via la méthode ```.dtype``` :"
   ]
  },
  {
   "cell_type": "code",
   "execution_count": null,
   "metadata": {},
   "outputs": [],
   "source": [
    "revenus_array.dtype"
   ]
  },
  {
   "cell_type": "markdown",
   "metadata": {
    "tags": [
     "parameters"
    ]
   },
   "source": [
    "> Les types en NumPy seront toujours présentés via deux informations :\n",
    "> le type (ici int ) ;\n",
    "> la précision (ici 64 ).\n",
    "> Cette dernière correspond au nombre de bits sur lesquels sont codés les nombres, définissant ainsi les différentes valeurs possibles. Par exemple, un int8  (entier codé sur 8 bits) pourra prendre des valeurs de -128 à 127 !"
   ]
  },
  {
   "cell_type": "markdown",
   "metadata": {},
   "source": [
    "## Sélectionner des éléments au sein d’un array\n",
    "\n",
    "L’accès à ***un élément spécifique d’un array*** se fait via la syntaxe : ```nom_array[indice]```.\n",
    "\n",
    "### Accédez à un seul élément"
   ]
  },
  {
   "cell_type": "code",
   "execution_count": null,
   "metadata": {},
   "outputs": [],
   "source": [
    "revenus = [1800, 1500, 2200, 3000, 2172]\n",
    "\n",
    "revenus_array = np.array(revenus)\n",
    "\n",
    "# Pour accéder au 4eme éléments :\n",
    "item = revenus_array[3]\n",
    "print(item)\n",
    "\n",
    "# Pour accéder au dernier éléments :\n",
    "revenus_array[-1]\n"
   ]
  },
  {
   "cell_type": "markdown",
   "metadata": {},
   "source": [
    "### Accédez à plusieurs éléments contigus\n",
    "\n",
    "On peux accéder à un ensemble d'éléments contigus en combinant ```[]``` et ```:``` .\n",
    "\n",
    "La syntaxe suit une règle simple : ```nom_array[i:j:p]``` , avec :\n",
    "-  ```i``` : l’indice du début ;\n",
    "-  ```j``` : l’indice de fin ;\n",
    "-  ```p``` : le pas ;"
   ]
  },
  {
   "cell_type": "code",
   "execution_count": null,
   "metadata": {},
   "outputs": [],
   "source": [
    "# revenus = [1800, 1500, 2200, 3000, 2172]\n",
    "\n",
    "# Récupère les 3 premiers éléments :\n",
    "print(revenus_array[0:3])\n",
    "\n",
    "# Les éléments à partir de l’indice 2 :\n",
    "print(revenus_array[2:])\n",
    "\n",
    "# Un élément sur deux :\n",
    "print(revenus_array[::2])\n",
    "\n",
    "# Avec le pas à -1, inverse l'array:\n",
    "print(revenus_array[::-1])"
   ]
  },
  {
   "cell_type": "markdown",
   "metadata": {},
   "source": [
    "### Accéder à plusieurs éléments selon une condition\n",
    "Il est possible avec les arrays NumPy de renseigner la condition selon laquelle on souhaite sélectionner les éléments du tableau, avec l’écriture ```nom_array[condition de sélection]```.\n",
    "- Voilà par exemple comment sélectionner uniquement les valeurs supérieures à 2 000 € :"
   ]
  },
  {
   "cell_type": "code",
   "execution_count": null,
   "metadata": {},
   "outputs": [],
   "source": [
    "revenus_array[revenus_array > 2000]"
   ]
  },
  {
   "cell_type": "markdown",
   "metadata": {},
   "source": [
    "Il est naturellement possible de complexifier cela, avec plusieurs conditions :"
   ]
  },
  {
   "cell_type": "code",
   "execution_count": null,
   "metadata": {},
   "outputs": [],
   "source": [
    "revenus_array[(revenus_array > 2000) & (revenus_array < 3000)]"
   ]
  },
  {
   "cell_type": "markdown",
   "metadata": {},
   "source": [
    "## Utiliser les méthodes d’array\n",
    "\n",
    "On peut accéder facilement aux ***dimensions de notre array*** via la méthode ```.shape``` : "
   ]
  },
  {
   "cell_type": "code",
   "execution_count": null,
   "metadata": {},
   "outputs": [],
   "source": [
    "# revenus = [1800, 1500, 2200, 3000, 2172]\n",
    "\n",
    "revenus_array.shape"
   ]
  },
  {
   "cell_type": "code",
   "execution_count": null,
   "metadata": {},
   "outputs": [],
   "source": [
    "# calculer la moyenne\n",
    "print(f\"- La moyenne des valeurs de l'array: {revenus_array.mean()}\")\n",
    "\n",
    "# calculer le maximum (ou le minimum) :\n",
    "print(f\"- La valeurs maximum des valeurs de l'array: {revenus_array.max()}\")\n",
    "print(f\"- La valeurs minimum des valeurs de l'array: {revenus_array.min()}\")\n",
    "\n",
    "# accéder à l’indice de l’élement minimum (ou maximum) :\n",
    "print(f\"- Indice du plus petit élément : {revenus_array.argmin()}\")\n",
    "print(f\"- Indice du plus grand élément: {revenus_array.argmax()}\")\n",
    "\n",
    "# ordonner par ordre croissant :\n",
    "revenus_array.sort()\n",
    "print(f\"- Array trie: {revenus_array}\")\n",
    "\n",
    "# Calculer la somme :\n",
    "print(f\"- La somme de tous les éléments: {revenus_array.sum()}\")"
   ]
  },
  {
   "cell_type": "markdown",
   "metadata": {},
   "source": [
    "## Création d'un tableau avec Numpy\n",
    "\n",
    "Le plus souvent les array ne sont pas que sur une seulle colonne.\n",
    "\n",
    "exemple :\n",
    "Dans le milieu bancaire un client a plusieurs informations:\n",
    "- Noms, mensualité, nombres d'enfants.\n",
    "\n",
    "Voila comment l'on pourrait matérialiser ce tableau en Python, en utilisant des listes :"
   ]
  },
  {
   "cell_type": "code",
   "execution_count": 6,
   "metadata": {},
   "outputs": [
    {
     "name": "stdout",
     "output_type": "stream",
     "text": [
      "[54, 2800, 2]\n"
     ]
    }
   ],
   "source": [
    "hugo = [21, 1400, 0]\n",
    "richard = [54, 2800, 2]\n",
    "emilie = [27, 3700, 3]\n",
    "tableau = [hugo, richard, emilie]\n",
    "\n",
    "print(tableau[0][1:])"
   ]
  },
  {
   "cell_type": "markdown",
   "metadata": {},
   "source": [
    "------------------------------------------------------------\n",
    "# Créer des data frames avec Pandas."
   ]
  },
  {
   "cell_type": "markdown",
   "metadata": {},
   "source": [
    "------------------------------------------------------------\n",
    "# Construire des data visualisations avec Matplotlib et Seaborn."
   ]
  }
 ],
 "metadata": {
  "kernelspec": {
   "display_name": "Python 3",
   "language": "python",
   "name": "python3"
  },
  "language_info": {
   "codemirror_mode": {
    "name": "ipython",
    "version": 3
   },
   "file_extension": ".py",
   "mimetype": "text/x-python",
   "name": "python",
   "nbconvert_exporter": "python",
   "pygments_lexer": "ipython3",
   "version": "3.10.11"
  }
 },
 "nbformat": 4,
 "nbformat_minor": 2
}
