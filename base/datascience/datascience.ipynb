{
 "cells": [
  {
   "cell_type": "markdown",
   "metadata": {},
   "source": [
    "# Numpy et Pandas pour datascience.\n",
    "### <ins>[Index](../../README.md)</ins>\n",
    "---\n",
    "\n",
    "## Manipuler des tableaux avec NumPy\n",
    "---\n",
    "\n",
    "Diminutif de ***Numerical Python***, elle fournit un ensemble de fonctions pour effectuer efficacement des opérations sur les données, mais propose également un objet qui est au cœur de presque tout l’écosystème data en Python : **l’array**.\n",
    "\n",
    "### Différenciez les arrays des listes classiques\n",
    "---\n",
    "Le tableau NumPy, ou array, en anglais, est d’une certaine manière similaire à une liste Python. \n",
    "Son avantage ? Il permet d’*effectuer simplement et rapidement de nombreuses opérations complexes*, en plus de faciliter le stockage et la manipulation des données."
   ]
  },
  {
   "cell_type": "code",
   "execution_count": 8,
   "metadata": {},
   "outputs": [
    {
     "name": "stdout",
     "output_type": "stream",
     "text": [
      "2134.4\n"
     ]
    }
   ],
   "source": [
    "# Fonction qui fait la moyenne d'une liste :\n",
    "def moyenne(liste):\n",
    "    return sum(liste)/len(liste)\n",
    "\n",
    "revenus = [1800, 1500, 2200, 3000, 2172]\n",
    "print(moyenne(revenus))"
   ]
  },
  {
   "cell_type": "markdown",
   "metadata": {
    "tags": [
     "parameters"
    ]
   },
   "source": [
    "On estime qu’à mesure que la taille du tableau augmente, des opérations via array NumPy deviennent **environ 30 fois plus rapides** que via une liste Python classique. \n",
    "\n",
    "Cette différence aussi importante s’explique par le fait que les arrays NumPy ne peuvent contenir qu’un seul et même type. En effet, contrairement à une liste classique où l’on peut stocker tous types d’objets, NumPy n’acceptera qu’un seul type en entrée.\n",
    "- ```np.mean()``` retourne la moyenne de la liste."
   ]
  },
  {
   "cell_type": "code",
   "execution_count": 9,
   "metadata": {},
   "outputs": [
    {
     "name": "stdout",
     "output_type": "stream",
     "text": [
      "2134.4\n"
     ]
    }
   ],
   "source": [
    "import numpy as np\n",
    "\n",
    "revenus = [1800, 1500, 2200, 3000, 2172]\n",
    "\n",
    "print(np.mean(revenus))"
   ]
  },
  {
   "cell_type": "markdown",
   "metadata": {},
   "source": [
    "NumPy donne également accès à de nombreuses autres fonctions mathématiques indispensables, applicables à des arrays ou même à des listes :"
   ]
  },
  {
   "cell_type": "code",
   "execution_count": 10,
   "metadata": {},
   "outputs": [
    {
     "name": "stdout",
     "output_type": "stream",
     "text": [
      "La valeur absolue:  [2 1 1 2]\n",
      "Exponentielle:  [0.13533528 0.36787944 2.71828183 7.3890561 ]\n",
      "Logarithme:  [0.69314718 0.         0.         0.69314718]\n"
     ]
    }
   ],
   "source": [
    "x = [-2, -1, 1, 2]\n",
    "\n",
    "print(\"La valeur absolue: \", np.abs(x))\n",
    "print(\"Exponentielle: \", np.exp(x))\n",
    "print(\"Logarithme: \", np.log(np.abs(x)))"
   ]
  },
  {
   "cell_type": "markdown",
   "metadata": {},
   "source": [
    "### Créez un array NumPy\n",
    "---\n",
    "\n",
    "on peux faire cela de différentes façons, mais la plus simple est de le faire… à partir d’une liste Python classique :"
   ]
  },
  {
   "cell_type": "code",
   "execution_count": 11,
   "metadata": {},
   "outputs": [
    {
     "data": {
      "text/plain": [
       "array([1800, 1500, 2200, 3000, 2172])"
      ]
     },
     "execution_count": 11,
     "metadata": {},
     "output_type": "execute_result"
    }
   ],
   "source": [
    "revenus = [1800, 1500, 2200, 3000, 2172]\n",
    "\n",
    "revenus_array = np.array(revenus)\n",
    "revenus_array"
   ]
  },
  {
   "cell_type": "markdown",
   "metadata": {},
   "source": [
    "\n",
    "> Si dans la liste de départ il y a des données de types différents, *NumPy essaiera de tous les convertir au type le plus général*.\n",
    "> Par exemple, si un tableau contient des entiers ```int``` et des nombres décimaux ```float```, tous ses éléments seront convertis en nombres décimaux ```float```."
   ]
  },
  {
   "cell_type": "markdown",
   "metadata": {},
   "source": [
    "Il existe également des fonctions NumPy permettant de créer des arrays selon un certain pattern ou une spécification particulière :"
   ]
  },
  {
   "cell_type": "code",
   "execution_count": 12,
   "metadata": {},
   "outputs": [
    {
     "name": "stdout",
     "output_type": "stream",
     "text": [
      "Fait un array de n elements mis a 0: [0. 0. 0. 0. 0. 0. 0.]\n",
      "Fait un array de n elements mis a 1: [1. 1. 1. 1. 1. 1. 1.]\n",
      "Fait un array de 0 a n elements par pas de 2: [0 2 4 6]\n",
      "Fait un array de 3 valeurs espacées uniformément entre 1 et 9: [1. 5. 9.]\n"
     ]
    }
   ],
   "source": [
    "n = 7\n",
    "\n",
    "print(f\"Fait un array de n elements mis a 0: {np.zeros(n)}\")\n",
    "print(f\"Fait un array de n elements mis a 1: {np.ones(n)}\")\n",
    "print(f\"Fait un array de 0 a n elements par pas de 2: {np.arange(0, n, 2)}\")\n",
    "print(f\"Fait un array de 3 valeurs espacées uniformément entre 1 et 9: {np.linspace(1, 9, 3)}\")"
   ]
  },
  {
   "cell_type": "markdown",
   "metadata": {},
   "source": [
    "On peux accéder au type des éléments d’un array via la méthode ```.dtype``` :"
   ]
  },
  {
   "cell_type": "code",
   "execution_count": 13,
   "metadata": {},
   "outputs": [
    {
     "data": {
      "text/plain": [
       "dtype('int64')"
      ]
     },
     "execution_count": 13,
     "metadata": {},
     "output_type": "execute_result"
    }
   ],
   "source": [
    "revenus_array.dtype"
   ]
  },
  {
   "cell_type": "markdown",
   "metadata": {
    "tags": [
     "parameters"
    ]
   },
   "source": [
    "> Les types en NumPy seront toujours présentés via deux informations :\n",
    "> le type (ici int ) ;\n",
    "> la précision (ici 64 ).\n",
    "> Cette dernière correspond au nombre de bits sur lesquels sont codés les nombres, définissant ainsi les différentes valeurs possibles. Par exemple, un int8  (entier codé sur 8 bits) pourra prendre des valeurs de -128 à 127 !"
   ]
  },
  {
   "cell_type": "markdown",
   "metadata": {},
   "source": [
    "### Sélectionner des éléments au sein d’un array\n",
    "---\n",
    "#### <ins>Accédez à un seul élément</ins>\n",
    "\n",
    "L’accès à ***un élément spécifique d’un array*** se fait via la syntaxe : ```nom_array[indice]```."
   ]
  },
  {
   "cell_type": "code",
   "execution_count": 14,
   "metadata": {},
   "outputs": [
    {
     "name": "stdout",
     "output_type": "stream",
     "text": [
      "3000\n"
     ]
    },
    {
     "data": {
      "text/plain": [
       "np.int64(2172)"
      ]
     },
     "execution_count": 14,
     "metadata": {},
     "output_type": "execute_result"
    }
   ],
   "source": [
    "revenus = [1800, 1500, 2200, 3000, 2172]\n",
    "\n",
    "revenus_array = np.array(revenus)\n",
    "\n",
    "# Pour accéder au 4eme éléments :\n",
    "item = revenus_array[3]\n",
    "print(item)\n",
    "\n",
    "# Pour accéder au dernier éléments :\n",
    "revenus_array[-1]\n"
   ]
  },
  {
   "cell_type": "markdown",
   "metadata": {},
   "source": [
    "#### <ins>Accédez à plusieurs éléments contigus</ins>\n",
    "\n",
    "On peux accéder à un ensemble d'éléments contigus en combinant ```[]``` et ```:``` .\n",
    "\n",
    "La syntaxe suit une règle simple : ```nom_array[i:j:p]``` , avec :\n",
    "-  ```i``` : l’indice du début ;\n",
    "-  ```j``` : l’indice de fin ;\n",
    "-  ```p``` : le pas ;"
   ]
  },
  {
   "cell_type": "code",
   "execution_count": 15,
   "metadata": {},
   "outputs": [
    {
     "name": "stdout",
     "output_type": "stream",
     "text": [
      "[1800 1500 2200]\n",
      "[2200 3000 2172]\n",
      "[1800 2200 2172]\n",
      "[2172 3000 2200 1500 1800]\n"
     ]
    }
   ],
   "source": [
    "# revenus = [1800, 1500, 2200, 3000, 2172]\n",
    "\n",
    "# Récupère les 3 premiers éléments :\n",
    "print(revenus_array[0:3])\n",
    "\n",
    "# Les éléments à partir de l’indice 2 :\n",
    "print(revenus_array[2:])\n",
    "\n",
    "# Un élément sur deux :\n",
    "print(revenus_array[::2])\n",
    "\n",
    "# Avec le pas à -1, inverse l'array:\n",
    "print(revenus_array[::-1])"
   ]
  },
  {
   "cell_type": "markdown",
   "metadata": {},
   "source": [
    "#### <ins>Accéder à plusieurs éléments selon une condition</ins>\n",
    "\n",
    "Il est possible avec les arrays NumPy de renseigner la condition selon laquelle on souhaite sélectionner les éléments du tableau, avec l’écriture ```nom_array[condition de sélection]```.\n",
    "- Voilà par exemple comment sélectionner uniquement les valeurs supérieures à 2 000 € :"
   ]
  },
  {
   "cell_type": "code",
   "execution_count": 16,
   "metadata": {},
   "outputs": [
    {
     "data": {
      "text/plain": [
       "array([2200, 3000, 2172])"
      ]
     },
     "execution_count": 16,
     "metadata": {},
     "output_type": "execute_result"
    }
   ],
   "source": [
    "revenus_array[revenus_array > 2000]"
   ]
  },
  {
   "cell_type": "markdown",
   "metadata": {},
   "source": [
    "Il est naturellement possible de complexifier cela, avec plusieurs conditions :"
   ]
  },
  {
   "cell_type": "code",
   "execution_count": 17,
   "metadata": {},
   "outputs": [
    {
     "data": {
      "text/plain": [
       "array([2200, 2172])"
      ]
     },
     "execution_count": 17,
     "metadata": {},
     "output_type": "execute_result"
    }
   ],
   "source": [
    "revenus_array[(revenus_array > 2000) & (revenus_array < 3000)]"
   ]
  },
  {
   "cell_type": "markdown",
   "metadata": {},
   "source": [
    "#### <ins>Utiliser les méthodes d’array</ins>\n",
    "\n",
    "On peut accéder facilement aux ***dimensions de notre array*** via la méthode ```.shape``` : "
   ]
  },
  {
   "cell_type": "code",
   "execution_count": 18,
   "metadata": {},
   "outputs": [
    {
     "data": {
      "text/plain": [
       "(5,)"
      ]
     },
     "execution_count": 18,
     "metadata": {},
     "output_type": "execute_result"
    }
   ],
   "source": [
    "# revenus = [1800, 1500, 2200, 3000, 2172]\n",
    "\n",
    "revenus_array.shape"
   ]
  },
  {
   "cell_type": "code",
   "execution_count": 19,
   "metadata": {},
   "outputs": [
    {
     "name": "stdout",
     "output_type": "stream",
     "text": [
      "- La moyenne des valeurs de l'array: 2134.4\n",
      "- La valeurs maximum des valeurs de l'array: 3000\n",
      "- La valeurs minimum des valeurs de l'array: 1500\n",
      "- Indice du plus petit élément : 1\n",
      "- Indice du plus grand élément: 3\n",
      "- Array trie: [1500 1800 2172 2200 3000]\n",
      "- La somme de tous les éléments: 10672\n"
     ]
    }
   ],
   "source": [
    "# calculer la moyenne\n",
    "print(f\"- La moyenne des valeurs de l'array: {revenus_array.mean()}\")\n",
    "\n",
    "# calculer le maximum (ou le minimum) :\n",
    "print(f\"- La valeurs maximum des valeurs de l'array: {revenus_array.max()}\")\n",
    "print(f\"- La valeurs minimum des valeurs de l'array: {revenus_array.min()}\")\n",
    "\n",
    "# accéder à l’indice de l’élement minimum (ou maximum) :\n",
    "print(f\"- Indice du plus petit élément : {revenus_array.argmin()}\")\n",
    "print(f\"- Indice du plus grand élément: {revenus_array.argmax()}\")\n",
    "\n",
    "# ordonner par ordre croissant :\n",
    "revenus_array.sort()\n",
    "print(f\"- Array trie: {revenus_array}\")\n",
    "\n",
    "# Calculer la somme :\n",
    "print(f\"- La somme de tous les éléments: {revenus_array.sum()}\")"
   ]
  },
  {
   "cell_type": "markdown",
   "metadata": {},
   "source": [
    "### Transformer des données en tableaux\n",
    "---\n",
    "#### <ins>Créer un tableaux numpy</ins>\n",
    "\n",
    "En géneral un tableau contient plusieurs colonnes.Pour cela le mieux et de le convertir en ***tableau à plusieurs dimensions*** avec numpy.\n",
    "> un array est un **objet multidimensionnel**, c’est-à -dire qu’il est possible de créer des arrays de toutes dimensions, et que l’ensemble des méthodes d’array prennent en compte ce côté multidimensionnel. \n",
    "\n",
    "**exemple**: Vous travaillez dans le milieu bancaire et vous avez besoin de créer un tableau où vous retrouveriez, en plus des revenus de vos clients, le nombre d'enfants à charge.\n",
    "- Hugo, 21 ans, gagnant 1400€/mois et n’ayant aucun enfant."
   ]
  },
  {
   "cell_type": "code",
   "execution_count": 20,
   "metadata": {},
   "outputs": [
    {
     "name": "stdout",
     "output_type": "stream",
     "text": [
      "Liste:  [[21, 1400, 0], [54, 2800, 2], [27, 3700, 3]]\n",
      "Array numpy:\n",
      "[[  21 1400    0]\n",
      " [  54 2800    2]\n",
      " [  27 3700    3]]\n",
      "- dimensions: (3, 3)\n"
     ]
    }
   ],
   "source": [
    "hugo = [21, 1400, 0]\n",
    "richard = [54, 2800, 2]\n",
    "emilie = [27, 3700, 3]\n",
    "tableau = [hugo, richard, emilie]\n",
    "print(\"Liste: \", tableau)\n",
    "\n",
    "array = np.array(tableau)\n",
    "print(f\"Array numpy:\\n{array}\\n- dimensions: {array.shape}\")"
   ]
  },
  {
   "cell_type": "markdown",
   "metadata": {},
   "source": [
    "Pour rajouter un nouveau client utiliser ```np.vstack(array, client)``` :"
   ]
  },
  {
   "cell_type": "code",
   "execution_count": 21,
   "metadata": {},
   "outputs": [
    {
     "data": {
      "text/plain": [
       "array([[  21, 1400,    0],\n",
       "       [  54, 2800,    2],\n",
       "       [  27, 3700,    3],\n",
       "       [  31, 1900,    1]])"
      ]
     },
     "execution_count": 21,
     "metadata": {},
     "output_type": "execute_result"
    }
   ],
   "source": [
    "louise = [31, 1900, 1]\n",
    "np.vstack((array, louise))"
   ]
  },
  {
   "cell_type": "markdown",
   "metadata": {},
   "source": [
    "Il est possible de créer des tableaux en *bien plus que 2 dimensions*. Par exemple, pour un tableau en 3D il suffira d’utiliser une liste de listes de listes."
   ]
  },
  {
   "cell_type": "code",
   "execution_count": 22,
   "metadata": {},
   "outputs": [
    {
     "data": {
      "text/plain": [
       "array([[1., 1., 1., 1., 1.],\n",
       "       [1., 1., 1., 1., 1.],\n",
       "       [1., 1., 1., 1., 1.]])"
      ]
     },
     "execution_count": 22,
     "metadata": {},
     "output_type": "execute_result"
    }
   ],
   "source": [
    "# un tableau de 3x5 rempli de 1\n",
    "np.ones((3, 5))"
   ]
  },
  {
   "cell_type": "code",
   "execution_count": 23,
   "metadata": {},
   "outputs": [
    {
     "data": {
      "text/plain": [
       "array([[0., 0., 0., 0.],\n",
       "       [0., 0., 0., 0.],\n",
       "       [0., 0., 0., 0.],\n",
       "       [0., 0., 0., 0.]])"
      ]
     },
     "execution_count": 23,
     "metadata": {},
     "output_type": "execute_result"
    }
   ],
   "source": [
    "# un tableau de 4 lignes et de 4 colonnes contenant que des 0\n",
    "np.zeros((4, 4))"
   ]
  },
  {
   "cell_type": "code",
   "execution_count": 24,
   "metadata": {},
   "outputs": [
    {
     "data": {
      "text/plain": [
       "array([0, 1, 2, 3, 4, 5, 6, 7, 8, 9])"
      ]
     },
     "execution_count": 24,
     "metadata": {},
     "output_type": "execute_result"
    }
   ],
   "source": [
    "# un tableau contenant une suite lineaire de 0 a 9 :\n",
    "np.arange(0, 10)"
   ]
  },
  {
   "cell_type": "code",
   "execution_count": 25,
   "metadata": {},
   "outputs": [
    {
     "data": {
      "text/plain": [
       "array([[9, 8, 7],\n",
       "       [1, 3, 5],\n",
       "       [4, 8, 2]])"
      ]
     },
     "execution_count": 25,
     "metadata": {},
     "output_type": "execute_result"
    }
   ],
   "source": [
    "# un tableau de 3x3 rempli de valeurs aléatoires entières, comprises entre 1 et 10\n",
    "np.random.randint(1, 10, size=(3, 3))"
   ]
  },
  {
   "cell_type": "markdown",
   "metadata": {},
   "source": [
    "#### <ins>Analogie entre les arrays et les matrices</ins>\n",
    "\n",
    "Les tableaux, matérialisés par des arrays NumPy, portent le nom de **matrices**, en mathématiques. Le but premier de NumPy, avant même toutes ses applications dans le domaine de la data, est de *proposer des outils pour manipuler ces matrices et effectuer ce qu’on appelle des **calculs matriciels***.\n",
    "> Les matrices sont une composante essentielle de l’algèbre linéaire. Elles permettent différents type de calculs."
   ]
  },
  {
   "cell_type": "code",
   "execution_count": 26,
   "metadata": {},
   "outputs": [
    {
     "data": {
      "text/plain": [
       "array([[ 6, 12],\n",
       "       [18, 24]])"
      ]
     },
     "execution_count": 26,
     "metadata": {},
     "output_type": "execute_result"
    }
   ],
   "source": [
    "A = np.array([[1, 2], [3, 4]])\n",
    "B = np.array([[5, 10], [15, 20]])\n",
    "C = np.array([[2, 4, 6], [8, 10, 12]])\n",
    "\n",
    "A+B  #-> [1 + 5, 2 + 10], [3 + 15, 4 + 20] "
   ]
  },
  {
   "cell_type": "markdown",
   "metadata": {},
   "source": [
    "Il est également possible de faire une multiplication terme à terme via l’opérateur  ```*``` , comme avec une multiplication normale : ```A*B```"
   ]
  },
  {
   "cell_type": "code",
   "execution_count": 27,
   "metadata": {},
   "outputs": [
    {
     "data": {
      "text/plain": [
       "array([[ 5, 20],\n",
       "       [45, 80]])"
      ]
     },
     "execution_count": 27,
     "metadata": {},
     "output_type": "execute_result"
    }
   ],
   "source": [
    "A = np.array([[1, 2], [3, 4]])\n",
    "B = np.array([[5, 10], [15, 20]])\n",
    "\n",
    "A * B"
   ]
  },
  {
   "cell_type": "markdown",
   "metadata": {},
   "source": [
    "## Créer des dataframes avec Pandas\n",
    "---\n",
    "\n",
    "Les arrays NumPy sont particulièrement efficaces pour traiter des valeurs numériques. Mais les données, *dans la réalité, ne sont pas composées uniquement de chiffres et de nombres.*\n",
    "\n",
    "En effet, on retrouve aussi :\n",
    "- des catégories;\n",
    "- des labels;\n",
    "- des dates;\n",
    "- du texte brut;\n",
    "\n",
    "Ces données ont généralement un format prédéfini en analyse de données, où chaque ligne va correspondre à un individu (au sens statistique du terme), et chaque colonne va être une caractéristique spécifique des individus.\n",
    "\n",
    "<ins>Exemple</ins>: Dans le milieu bancaire enfin, chaque individu sera une personne, sur laquelle on aurait enregistré le salaire moyen, le genre, ses mensualités de remboursement de prêt, etc...\n",
    "\n",
    "Cest données sont souvent stocké dans un tableau ```Excel``` ou un fichier ```csv```.\n",
    "> Ce sont simplement des fichiers contenant l’ensemble des données brutes, séparées par un délimiteur. \n",
    "Cela peut également être sous la forme de fichier JSON. Le ***JavaScript Object Notation (JSON)*** est un format standard utilisé pour représenter des données structurées. Cela ressemble à un gros dictionnaire Python pouvant contenir lui-même d’autres dictionnaires et/ou listes. "
   ]
  },
  {
   "cell_type": "markdown",
   "metadata": {},
   "source": [
    "### Créer son premier data frame avec Pandas\n",
    "---\n",
    "\n",
    "Pour lire un fichier csv utiliser ```pd.read_csv(\"file.csv\")``` :"
   ]
  },
  {
   "cell_type": "code",
   "execution_count": 1,
   "metadata": {},
   "outputs": [
    {
     "data": {
      "text/html": [
       "<div>\n",
       "<style scoped>\n",
       "    .dataframe tbody tr th:only-of-type {\n",
       "        vertical-align: middle;\n",
       "    }\n",
       "\n",
       "    .dataframe tbody tr th {\n",
       "        vertical-align: top;\n",
       "    }\n",
       "\n",
       "    .dataframe thead th {\n",
       "        text-align: right;\n",
       "    }\n",
       "</style>\n",
       "<table border=\"1\" class=\"dataframe\">\n",
       "  <thead>\n",
       "    <tr style=\"text-align: right;\">\n",
       "      <th></th>\n",
       "      <th>Unnamed: 0</th>\n",
       "      <th>mpg</th>\n",
       "      <th>cyl</th>\n",
       "      <th>disp</th>\n",
       "      <th>hp</th>\n",
       "      <th>drat</th>\n",
       "      <th>wt</th>\n",
       "      <th>qsec</th>\n",
       "      <th>vs</th>\n",
       "      <th>am</th>\n",
       "      <th>gear</th>\n",
       "      <th>carb</th>\n",
       "    </tr>\n",
       "  </thead>\n",
       "  <tbody>\n",
       "    <tr>\n",
       "      <th>0</th>\n",
       "      <td>Mazda RX4</td>\n",
       "      <td>21.0</td>\n",
       "      <td>6</td>\n",
       "      <td>160.0</td>\n",
       "      <td>110</td>\n",
       "      <td>3.90</td>\n",
       "      <td>2.620</td>\n",
       "      <td>16.46</td>\n",
       "      <td>0</td>\n",
       "      <td>1</td>\n",
       "      <td>4</td>\n",
       "      <td>4</td>\n",
       "    </tr>\n",
       "    <tr>\n",
       "      <th>1</th>\n",
       "      <td>Mazda RX4 Wag</td>\n",
       "      <td>21.0</td>\n",
       "      <td>6</td>\n",
       "      <td>160.0</td>\n",
       "      <td>110</td>\n",
       "      <td>3.90</td>\n",
       "      <td>2.875</td>\n",
       "      <td>17.02</td>\n",
       "      <td>0</td>\n",
       "      <td>1</td>\n",
       "      <td>4</td>\n",
       "      <td>4</td>\n",
       "    </tr>\n",
       "    <tr>\n",
       "      <th>2</th>\n",
       "      <td>Datsun 710</td>\n",
       "      <td>22.8</td>\n",
       "      <td>4</td>\n",
       "      <td>108.0</td>\n",
       "      <td>93</td>\n",
       "      <td>3.85</td>\n",
       "      <td>2.320</td>\n",
       "      <td>18.61</td>\n",
       "      <td>1</td>\n",
       "      <td>1</td>\n",
       "      <td>4</td>\n",
       "      <td>1</td>\n",
       "    </tr>\n",
       "    <tr>\n",
       "      <th>3</th>\n",
       "      <td>Hornet 4 Drive</td>\n",
       "      <td>21.4</td>\n",
       "      <td>6</td>\n",
       "      <td>258.0</td>\n",
       "      <td>110</td>\n",
       "      <td>3.08</td>\n",
       "      <td>3.215</td>\n",
       "      <td>19.44</td>\n",
       "      <td>1</td>\n",
       "      <td>0</td>\n",
       "      <td>3</td>\n",
       "      <td>1</td>\n",
       "    </tr>\n",
       "    <tr>\n",
       "      <th>4</th>\n",
       "      <td>Hornet Sportabout</td>\n",
       "      <td>18.7</td>\n",
       "      <td>8</td>\n",
       "      <td>360.0</td>\n",
       "      <td>175</td>\n",
       "      <td>3.15</td>\n",
       "      <td>3.440</td>\n",
       "      <td>17.02</td>\n",
       "      <td>0</td>\n",
       "      <td>0</td>\n",
       "      <td>3</td>\n",
       "      <td>2</td>\n",
       "    </tr>\n",
       "  </tbody>\n",
       "</table>\n",
       "</div>"
      ],
      "text/plain": [
       "          Unnamed: 0   mpg  cyl   disp   hp  drat     wt   qsec  vs  am  gear  \\\n",
       "0          Mazda RX4  21.0    6  160.0  110  3.90  2.620  16.46   0   1     4   \n",
       "1      Mazda RX4 Wag  21.0    6  160.0  110  3.90  2.875  17.02   0   1     4   \n",
       "2         Datsun 710  22.8    4  108.0   93  3.85  2.320  18.61   1   1     4   \n",
       "3     Hornet 4 Drive  21.4    6  258.0  110  3.08  3.215  19.44   1   0     3   \n",
       "4  Hornet Sportabout  18.7    8  360.0  175  3.15  3.440  17.02   0   0     3   \n",
       "\n",
       "   carb  \n",
       "0     4  \n",
       "1     4  \n",
       "2     1  \n",
       "3     1  \n",
       "4     2  "
      ]
     },
     "execution_count": 1,
     "metadata": {},
     "output_type": "execute_result"
    }
   ],
   "source": [
    "# !pip install pandas\n",
    "\n",
    "import pandas as pd\n",
    "\n",
    "data_csv = pd.read_csv(\"./P2C1_clients/clients.csv\")\n",
    "# data_csv = pd.read_csv(\"cars.csv\")\n",
    "data_csv.head()"
   ]
  },
  {
   "cell_type": "markdown",
   "metadata": {},
   "source": [
    "Pour lire un fichier json utiliser ```pd.read_json(\"file.json\")``` :"
   ]
  },
  {
   "cell_type": "code",
   "execution_count": 29,
   "metadata": {},
   "outputs": [
    {
     "data": {
      "text/html": [
       "<div>\n",
       "<style scoped>\n",
       "    .dataframe tbody tr th:only-of-type {\n",
       "        vertical-align: middle;\n",
       "    }\n",
       "\n",
       "    .dataframe tbody tr th {\n",
       "        vertical-align: top;\n",
       "    }\n",
       "\n",
       "    .dataframe thead th {\n",
       "        text-align: right;\n",
       "    }\n",
       "</style>\n",
       "<table border=\"1\" class=\"dataframe\">\n",
       "  <thead>\n",
       "    <tr style=\"text-align: right;\">\n",
       "      <th></th>\n",
       "      <th>identifiant</th>\n",
       "      <th>email</th>\n",
       "      <th>nom</th>\n",
       "      <th>genre</th>\n",
       "    </tr>\n",
       "  </thead>\n",
       "  <tbody>\n",
       "    <tr>\n",
       "      <th>0</th>\n",
       "      <td>0</td>\n",
       "      <td>LaurentDagenais@rhyta.com</td>\n",
       "      <td>Laurent Dagenais</td>\n",
       "      <td>M</td>\n",
       "    </tr>\n",
       "    <tr>\n",
       "      <th>1</th>\n",
       "      <td>1</td>\n",
       "      <td>GuyMarois@fleckens.hu</td>\n",
       "      <td>Guy Marois</td>\n",
       "      <td>M</td>\n",
       "    </tr>\n",
       "    <tr>\n",
       "      <th>2</th>\n",
       "      <td>2</td>\n",
       "      <td>BeaufortLesage@einrot.com</td>\n",
       "      <td>Beaufort Lesage</td>\n",
       "      <td>M</td>\n",
       "    </tr>\n",
       "    <tr>\n",
       "      <th>3</th>\n",
       "      <td>3</td>\n",
       "      <td>RussellDurand@armyspy.com</td>\n",
       "      <td>Russell Durand</td>\n",
       "      <td>M</td>\n",
       "    </tr>\n",
       "    <tr>\n",
       "      <th>4</th>\n",
       "      <td>4</td>\n",
       "      <td>AlexisRiel@rhyta.com</td>\n",
       "      <td>Alexis Riel</td>\n",
       "      <td>M</td>\n",
       "    </tr>\n",
       "  </tbody>\n",
       "</table>\n",
       "</div>"
      ],
      "text/plain": [
       "   identifiant                      email               nom genre\n",
       "0            0  LaurentDagenais@rhyta.com  Laurent Dagenais     M\n",
       "1            1      GuyMarois@fleckens.hu        Guy Marois     M\n",
       "2            2  BeaufortLesage@einrot.com   Beaufort Lesage     M\n",
       "3            3  RussellDurand@armyspy.com    Russell Durand     M\n",
       "4            4       AlexisRiel@rhyta.com       Alexis Riel     M"
      ]
     },
     "execution_count": 29,
     "metadata": {},
     "output_type": "execute_result"
    }
   ],
   "source": [
    "data_json = pd.read_json(\"./P2C1_clients/clients.json\")\n",
    "data_json.head()"
   ]
  },
  {
   "cell_type": "code",
   "execution_count": 30,
   "metadata": {},
   "outputs": [
    {
     "data": {
      "text/plain": [
       "identifiant     int64\n",
       "email          object\n",
       "nom            object\n",
       "genre          object\n",
       "dtype: object"
      ]
     },
     "execution_count": 30,
     "metadata": {},
     "output_type": "execute_result"
    }
   ],
   "source": [
    "# Permet de récuperer le type de chaque variables contenue dans le fichier :\n",
    "data_json.dtypes"
   ]
  },
  {
   "cell_type": "markdown",
   "metadata": {},
   "source": [
    "Pour transformer un data frame en array :"
   ]
  },
  {
   "cell_type": "code",
   "execution_count": 31,
   "metadata": {},
   "outputs": [
    {
     "name": "stdout",
     "output_type": "stream",
     "text": [
      "[[0 'LaurentDagenais@rhyta.com' 'Laurent Dagenais' 'M']\n",
      " [1 'GuyMarois@fleckens.hu' 'Guy Marois' 'M']\n",
      " [2 'BeaufortLesage@einrot.com' 'Beaufort Lesage' 'M']]\n"
     ]
    }
   ],
   "source": [
    "data_array = data_json.values\n",
    "print(data_array[0:3])"
   ]
  },
  {
   "cell_type": "markdown",
   "metadata": {},
   "source": [
    "L’objet data frame de Pandas permet de manipuler simplement et efficacement les données :\n",
    "- En important très facilement tous ces différents formats ; \n",
    "- En accédant facilement aux caractéristiques générales de notre jeu de données, comme les types de variables, le nombre de lignes, le nombre de colonnes, etc."
   ]
  },
  {
   "cell_type": "markdown",
   "metadata": {},
   "source": [
    "### Manipulez le data frame\n",
    "---"
   ]
  },
  {
   "cell_type": "markdown",
   "metadata": {},
   "source": [
    "Dans un data frame, *chaque colonne est explicitement nommée*, rendant la compréhension de cette dernière plus claire, et permettant d’accéder à une colonne spécifique à partir de son nom!\n",
    "\n",
    "Pour accéder à une colonne d’un data frame, il suffit d’utiliser la syntaxe ```nom_dataframe[nom_colonne]``` ."
   ]
  },
  {
   "cell_type": "code",
   "execution_count": 32,
   "metadata": {},
   "outputs": [
    {
     "name": "stdout",
     "output_type": "stream",
     "text": [
      "0            LaurentDagenais@rhyta.com\n",
      "1                GuyMarois@fleckens.hu\n",
      "2            BeaufortLesage@einrot.com\n",
      "3            RussellDurand@armyspy.com\n",
      "4                 AlexisRiel@rhyta.com\n",
      "                    ...               \n",
      "223    ClaudeDandonneau@jourrapide.com\n",
      "224      ApollineMichaud@superrito.com\n",
      "225         PascalineBeaudry@rhyta.com\n",
      "226       FleurCaouette@jourrapide.com\n",
      "227        FrancisMasse@jourrapide.com\n",
      "Name: email, Length: 228, dtype: object\n"
     ]
    }
   ],
   "source": [
    "# Recupere tous les emails du fichier :\n",
    "emails = data_csv[\"email\"]\n",
    "print(emails)"
   ]
  },
  {
   "cell_type": "code",
   "execution_count": 34,
   "metadata": {},
   "outputs": [
    {
     "data": {
      "text/html": [
       "<div>\n",
       "<style scoped>\n",
       "    .dataframe tbody tr th:only-of-type {\n",
       "        vertical-align: middle;\n",
       "    }\n",
       "\n",
       "    .dataframe tbody tr th {\n",
       "        vertical-align: top;\n",
       "    }\n",
       "\n",
       "    .dataframe thead th {\n",
       "        text-align: right;\n",
       "    }\n",
       "</style>\n",
       "<table border=\"1\" class=\"dataframe\">\n",
       "  <thead>\n",
       "    <tr style=\"text-align: right;\">\n",
       "      <th></th>\n",
       "      <th>nom</th>\n",
       "      <th>email</th>\n",
       "    </tr>\n",
       "  </thead>\n",
       "  <tbody>\n",
       "    <tr>\n",
       "      <th>0</th>\n",
       "      <td>Laurent Dagenais</td>\n",
       "      <td>LaurentDagenais@rhyta.com</td>\n",
       "    </tr>\n",
       "    <tr>\n",
       "      <th>1</th>\n",
       "      <td>Guy Marois</td>\n",
       "      <td>GuyMarois@fleckens.hu</td>\n",
       "    </tr>\n",
       "    <tr>\n",
       "      <th>2</th>\n",
       "      <td>Beaufort Lesage</td>\n",
       "      <td>BeaufortLesage@einrot.com</td>\n",
       "    </tr>\n",
       "    <tr>\n",
       "      <th>3</th>\n",
       "      <td>Russell Durand</td>\n",
       "      <td>RussellDurand@armyspy.com</td>\n",
       "    </tr>\n",
       "    <tr>\n",
       "      <th>4</th>\n",
       "      <td>Alexis Riel</td>\n",
       "      <td>AlexisRiel@rhyta.com</td>\n",
       "    </tr>\n",
       "    <tr>\n",
       "      <th>...</th>\n",
       "      <td>...</td>\n",
       "      <td>...</td>\n",
       "    </tr>\n",
       "    <tr>\n",
       "      <th>223</th>\n",
       "      <td>Claude Dandonneau</td>\n",
       "      <td>ClaudeDandonneau@jourrapide.com</td>\n",
       "    </tr>\n",
       "    <tr>\n",
       "      <th>224</th>\n",
       "      <td>Apolline Michaud</td>\n",
       "      <td>ApollineMichaud@superrito.com</td>\n",
       "    </tr>\n",
       "    <tr>\n",
       "      <th>225</th>\n",
       "      <td>Pascaline Beaudry</td>\n",
       "      <td>PascalineBeaudry@rhyta.com</td>\n",
       "    </tr>\n",
       "    <tr>\n",
       "      <th>226</th>\n",
       "      <td>Fleur Caouette</td>\n",
       "      <td>FleurCaouette@jourrapide.com</td>\n",
       "    </tr>\n",
       "    <tr>\n",
       "      <th>227</th>\n",
       "      <td>Francis Masse</td>\n",
       "      <td>FrancisMasse@jourrapide.com</td>\n",
       "    </tr>\n",
       "  </tbody>\n",
       "</table>\n",
       "<p>228 rows × 2 columns</p>\n",
       "</div>"
      ],
      "text/plain": [
       "                   nom                            email\n",
       "0     Laurent Dagenais        LaurentDagenais@rhyta.com\n",
       "1           Guy Marois            GuyMarois@fleckens.hu\n",
       "2      Beaufort Lesage        BeaufortLesage@einrot.com\n",
       "3       Russell Durand        RussellDurand@armyspy.com\n",
       "4          Alexis Riel             AlexisRiel@rhyta.com\n",
       "..                 ...                              ...\n",
       "223  Claude Dandonneau  ClaudeDandonneau@jourrapide.com\n",
       "224   Apolline Michaud    ApollineMichaud@superrito.com\n",
       "225  Pascaline Beaudry       PascalineBeaudry@rhyta.com\n",
       "226     Fleur Caouette     FleurCaouette@jourrapide.com\n",
       "227      Francis Masse      FrancisMasse@jourrapide.com\n",
       "\n",
       "[228 rows x 2 columns]"
      ]
     },
     "execution_count": 34,
     "metadata": {},
     "output_type": "execute_result"
    }
   ],
   "source": [
    "# Permet de récupérer plusieurs colonnes :\n",
    "variables = [\"nom\", \"email\"]\n",
    "data_csv[variables]"
   ]
  },
  {
   "cell_type": "markdown",
   "metadata": {},
   "source": []
  },
  {
   "cell_type": "markdown",
   "metadata": {},
   "source": [
    "### Filtrez les données du data frame\n",
    "---"
   ]
  },
  {
   "cell_type": "markdown",
   "metadata": {},
   "source": [
    "### Agrégez des données avec Pandas\n",
    "---"
   ]
  },
  {
   "cell_type": "markdown",
   "metadata": {},
   "source": [
    "### Fusionnez des données avec Pandas\n",
    "---"
   ]
  },
  {
   "cell_type": "markdown",
   "metadata": {},
   "source": [
    "## Construire des data visualisations avec Matplotlib et Seaborn.\n",
    "---"
   ]
  }
 ],
 "metadata": {
  "kernelspec": {
   "display_name": "Python 3",
   "language": "python",
   "name": "python3"
  },
  "language_info": {
   "codemirror_mode": {
    "name": "ipython",
    "version": 3
   },
   "file_extension": ".py",
   "mimetype": "text/x-python",
   "name": "python",
   "nbconvert_exporter": "python",
   "pygments_lexer": "ipython3",
   "version": "3.12.7"
  }
 },
 "nbformat": 4,
 "nbformat_minor": 2
}
