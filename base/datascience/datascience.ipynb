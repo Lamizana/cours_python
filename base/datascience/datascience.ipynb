{
 "cells": [
  {
   "cell_type": "markdown",
   "metadata": {},
   "source": [
    "# Numpy et Pandas pour datascience.\n",
    "---\n",
    "\n",
    "## Manipuler des tableaux avec NumPy.\n",
    "---\n",
    "#### <ins>[Index](../../README.md)</ins>\n",
    "\n",
    "Diminutif de ***Numerical Python***, elle fournit un ensemble de fonctions pour effectuer efficacement des opérations sur les données, mais propose également un objet qui est au cœur de presque tout l’écosystème data en Python : **l’array**.\n",
    "\n",
    "### Différenciez les arrays des listes classiques\n",
    "---\n",
    "Le tableau NumPy, ou array, en anglais, est d’une certaine manière similaire à une liste Python. \n",
    "Son avantage ? Il permet d’effectuer simplement et rapidement de nombreuses opérations complexes, en plus de faciliter le stockage et la manipulation des données."
   ]
  },
  {
   "cell_type": "code",
   "execution_count": 27,
   "metadata": {},
   "outputs": [
    {
     "name": "stdout",
     "output_type": "stream",
     "text": [
      "2134.4\n"
     ]
    }
   ],
   "source": [
    "# Fonction qui fait la moyenne d'une liste :\n",
    "def moyenne(liste):\n",
    "    return sum(liste)/len(liste)\n",
    "\n",
    "revenus = [1800, 1500, 2200, 3000, 2172]\n",
    "print(moyenne(revenus))"
   ]
  },
  {
   "cell_type": "markdown",
   "metadata": {},
   "source": [
    "On estime qu’à mesure que la taille du tableau augmente, des opérations via array NumPy deviennent **environ 30 fois plus rapides** que via une liste Python classique. \n",
    "\n",
    "Cette différence aussi importante s’explique par le fait que les arrays NumPy ne peuvent contenir qu’un seul et même type. En effet, contrairement à une liste classique où l’on peut stocker tous types d’objets, NumPy n’acceptera qu’un seul type en entrée.\n",
    "- ```np.mean()``` retourne la moyenne de la liste."
   ]
  },
  {
   "cell_type": "code",
   "execution_count": 28,
   "metadata": {},
   "outputs": [
    {
     "name": "stdout",
     "output_type": "stream",
     "text": [
      "2134.4\n"
     ]
    }
   ],
   "source": [
    "import numpy as np\n",
    "\n",
    "revenus = [1800, 1500, 2200, 3000, 2172]\n",
    "\n",
    "print(np.mean(revenus))"
   ]
  },
  {
   "cell_type": "markdown",
   "metadata": {},
   "source": [
    "NumPy donne également accès à de nombreuses autres fonctions mathématiques indispensables, applicables à des arrays ou même à des listes :"
   ]
  },
  {
   "cell_type": "code",
   "execution_count": 29,
   "metadata": {},
   "outputs": [
    {
     "name": "stdout",
     "output_type": "stream",
     "text": [
      "La valeur absolue:  [2 1 1 2]\n",
      "Exponentielle:  [0.13533528 0.36787944 2.71828183 7.3890561 ]\n",
      "Logarithme:  [0.69314718 0.         0.         0.69314718]\n"
     ]
    }
   ],
   "source": [
    "x = [-2, -1, 1, 2]\n",
    "\n",
    "print(\"La valeur absolue: \", np.abs(x))\n",
    "print(\"Exponentielle: \", np.exp(x))\n",
    "print(\"Logarithme: \", np.log(np.abs(x)))"
   ]
  },
  {
   "cell_type": "markdown",
   "metadata": {},
   "source": [
    "### <ins>Créez un array NumPy</ins>\n",
    "\n",
    "on peux faire cela de différentes façons, mais la plus simple est de le faire… à partir d’une liste Python classique :"
   ]
  },
  {
   "cell_type": "code",
   "execution_count": 30,
   "metadata": {},
   "outputs": [
    {
     "data": {
      "text/plain": [
       "array([1800, 1500, 2200, 3000, 2172])"
      ]
     },
     "execution_count": 30,
     "metadata": {},
     "output_type": "execute_result"
    }
   ],
   "source": [
    "revenus = [1800, 1500, 2200, 3000, 2172]\n",
    "\n",
    "revenus_array = np.array(revenus)\n",
    "revenus_array"
   ]
  },
  {
   "cell_type": "markdown",
   "metadata": {},
   "source": [
    "\n",
    "> Si dans la liste de départ il y a des données de types différents, *NumPy essaiera de tous les convertir au type le plus général*.\n",
    "> Par exemple, si un tableau contient des entiers ```int``` et des nombres décimaux ```float```, tous ses éléments seront convertis en nombres décimaux ```float```."
   ]
  },
  {
   "cell_type": "markdown",
   "metadata": {},
   "source": [
    "Il existe également des fonctions NumPy permettant de créer des arrays selon un certain pattern ou une spécification particulière :"
   ]
  },
  {
   "cell_type": "code",
   "execution_count": 31,
   "metadata": {},
   "outputs": [
    {
     "name": "stdout",
     "output_type": "stream",
     "text": [
      "Fait un array de n elements mis a 0: [0. 0. 0. 0. 0. 0. 0.]\n",
      "Fait un array de n elements mis a 1: [1. 1. 1. 1. 1. 1. 1.]\n",
      "Fait un array de 0 a n elements par pas de 2: [0 2 4 6]\n",
      "Fait un array de 3 valeurs espacées uniformément entre 1 et 9: [1. 5. 9.]\n"
     ]
    }
   ],
   "source": [
    "n = 7\n",
    "\n",
    "print(f\"Fait un array de n elements mis a 0: {np.zeros(n)}\")\n",
    "print(f\"Fait un array de n elements mis a 1: {np.ones(n)}\")\n",
    "print(f\"Fait un array de 0 a n elements par pas de 2: {np.arange(0, n, 2)}\")\n",
    "print(f\"Fait un array de 3 valeurs espacées uniformément entre 1 et 9: {np.linspace(1, 9, 3)}\")"
   ]
  },
  {
   "cell_type": "markdown",
   "metadata": {},
   "source": [
    "On peux accéder au type des éléments d’un array via la méthode ```.dtype``` :"
   ]
  },
  {
   "cell_type": "code",
   "execution_count": 32,
   "metadata": {},
   "outputs": [
    {
     "data": {
      "text/plain": [
       "dtype('int64')"
      ]
     },
     "execution_count": 32,
     "metadata": {},
     "output_type": "execute_result"
    }
   ],
   "source": [
    "revenus_array.dtype"
   ]
  },
  {
   "cell_type": "markdown",
   "metadata": {
    "tags": [
     "parameters"
    ]
   },
   "source": [
    "> Les types en NumPy seront toujours présentés via deux informations :\n",
    "> le type (ici int ) ;\n",
    "> la précision (ici 64 ).\n",
    "> Cette dernière correspond au nombre de bits sur lesquels sont codés les nombres, définissant ainsi les différentes valeurs possibles. Par exemple, un int8  (entier codé sur 8 bits) pourra prendre des valeurs de -128 à 127 !"
   ]
  },
  {
   "cell_type": "markdown",
   "metadata": {},
   "source": [
    "### Sélectionner des éléments au sein d’un array\n",
    "---\n",
    "L’accès à ***un élément spécifique d’un array*** se fait via la syntaxe : ```nom_array[indice]```.\n",
    "\n",
    "#### <ins>Accédez à un seul élément</ins>"
   ]
  },
  {
   "cell_type": "code",
   "execution_count": 33,
   "metadata": {},
   "outputs": [
    {
     "name": "stdout",
     "output_type": "stream",
     "text": [
      "3000\n"
     ]
    },
    {
     "data": {
      "text/plain": [
       "np.int64(2172)"
      ]
     },
     "execution_count": 33,
     "metadata": {},
     "output_type": "execute_result"
    }
   ],
   "source": [
    "revenus = [1800, 1500, 2200, 3000, 2172]\n",
    "\n",
    "revenus_array = np.array(revenus)\n",
    "\n",
    "# Pour accéder au 4eme éléments :\n",
    "item = revenus_array[3]\n",
    "print(item)\n",
    "\n",
    "# Pour accéder au dernier éléments :\n",
    "revenus_array[-1]\n"
   ]
  },
  {
   "cell_type": "markdown",
   "metadata": {},
   "source": [
    "#### <ins>Accédez à plusieurs éléments contigus</ins>\n",
    "\n",
    "On peux accéder à un ensemble d'éléments contigus en combinant ```[]``` et ```:``` .\n",
    "\n",
    "La syntaxe suit une règle simple : ```nom_array[i:j:p]``` , avec :\n",
    "-  ```i``` : l’indice du début ;\n",
    "-  ```j``` : l’indice de fin ;\n",
    "-  ```p``` : le pas ;"
   ]
  },
  {
   "cell_type": "code",
   "execution_count": 34,
   "metadata": {},
   "outputs": [
    {
     "name": "stdout",
     "output_type": "stream",
     "text": [
      "[1800 1500 2200]\n",
      "[2200 3000 2172]\n",
      "[1800 2200 2172]\n",
      "[2172 3000 2200 1500 1800]\n"
     ]
    }
   ],
   "source": [
    "# revenus = [1800, 1500, 2200, 3000, 2172]\n",
    "\n",
    "# Récupère les 3 premiers éléments :\n",
    "print(revenus_array[0:3])\n",
    "\n",
    "# Les éléments à partir de l’indice 2 :\n",
    "print(revenus_array[2:])\n",
    "\n",
    "# Un élément sur deux :\n",
    "print(revenus_array[::2])\n",
    "\n",
    "# Avec le pas à -1, inverse l'array:\n",
    "print(revenus_array[::-1])"
   ]
  },
  {
   "cell_type": "markdown",
   "metadata": {},
   "source": [
    "#### <ins>Accéder à plusieurs éléments selon une condition</ins>\n",
    "\n",
    "Il est possible avec les arrays NumPy de renseigner la condition selon laquelle on souhaite sélectionner les éléments du tableau, avec l’écriture ```nom_array[condition de sélection]```.\n",
    "- Voilà par exemple comment sélectionner uniquement les valeurs supérieures à 2 000 € :"
   ]
  },
  {
   "cell_type": "code",
   "execution_count": 35,
   "metadata": {},
   "outputs": [
    {
     "data": {
      "text/plain": [
       "array([2200, 3000, 2172])"
      ]
     },
     "execution_count": 35,
     "metadata": {},
     "output_type": "execute_result"
    }
   ],
   "source": [
    "revenus_array[revenus_array > 2000]"
   ]
  },
  {
   "cell_type": "markdown",
   "metadata": {},
   "source": [
    "Il est naturellement possible de complexifier cela, avec plusieurs conditions :"
   ]
  },
  {
   "cell_type": "code",
   "execution_count": 36,
   "metadata": {},
   "outputs": [
    {
     "data": {
      "text/plain": [
       "array([2200, 2172])"
      ]
     },
     "execution_count": 36,
     "metadata": {},
     "output_type": "execute_result"
    }
   ],
   "source": [
    "revenus_array[(revenus_array > 2000) & (revenus_array < 3000)]"
   ]
  },
  {
   "cell_type": "markdown",
   "metadata": {},
   "source": [
    "#### <ins>Utiliser les méthodes d’array</ins>\n",
    "\n",
    "On peut accéder facilement aux ***dimensions de notre array*** via la méthode ```.shape``` : "
   ]
  },
  {
   "cell_type": "code",
   "execution_count": 37,
   "metadata": {},
   "outputs": [
    {
     "data": {
      "text/plain": [
       "(5,)"
      ]
     },
     "execution_count": 37,
     "metadata": {},
     "output_type": "execute_result"
    }
   ],
   "source": [
    "# revenus = [1800, 1500, 2200, 3000, 2172]\n",
    "\n",
    "revenus_array.shape"
   ]
  },
  {
   "cell_type": "code",
   "execution_count": 38,
   "metadata": {},
   "outputs": [
    {
     "name": "stdout",
     "output_type": "stream",
     "text": [
      "- La moyenne des valeurs de l'array: 2134.4\n",
      "- La valeurs maximum des valeurs de l'array: 3000\n",
      "- La valeurs minimum des valeurs de l'array: 1500\n",
      "- Indice du plus petit élément : 1\n",
      "- Indice du plus grand élément: 3\n",
      "- Array trie: [1500 1800 2172 2200 3000]\n",
      "- La somme de tous les éléments: 10672\n"
     ]
    }
   ],
   "source": [
    "# calculer la moyenne\n",
    "print(f\"- La moyenne des valeurs de l'array: {revenus_array.mean()}\")\n",
    "\n",
    "# calculer le maximum (ou le minimum) :\n",
    "print(f\"- La valeurs maximum des valeurs de l'array: {revenus_array.max()}\")\n",
    "print(f\"- La valeurs minimum des valeurs de l'array: {revenus_array.min()}\")\n",
    "\n",
    "# accéder à l’indice de l’élement minimum (ou maximum) :\n",
    "print(f\"- Indice du plus petit élément : {revenus_array.argmin()}\")\n",
    "print(f\"- Indice du plus grand élément: {revenus_array.argmax()}\")\n",
    "\n",
    "# ordonner par ordre croissant :\n",
    "revenus_array.sort()\n",
    "print(f\"- Array trie: {revenus_array}\")\n",
    "\n",
    "# Calculer la somme :\n",
    "print(f\"- La somme de tous les éléments: {revenus_array.sum()}\")"
   ]
  },
  {
   "cell_type": "markdown",
   "metadata": {},
   "source": [
    "### Transformer des données en tableaux\n",
    "---\n",
    "#### <ins>Créer un tableaux numpy</ins>\n",
    "\n",
    "En géneral un tableau contient plusieurs colonnes.Pour cela le mieux et de le convertir en ***tableau à plusieurs dimensions*** avec numpy.\n",
    "> un array est un **objet multidimensionnel**, c’est-à -dire qu’il est possible de créer des arrays de toutes dimensions, et que l’ensemble des méthodes d’array prennent en compte ce côté multidimensionnel. \n",
    "\n",
    "**exemple**: Vous travaillez dans le milieu bancaire et vous avez besoin de créer un tableau où vous retrouveriez, en plus des revenus de vos clients, le nombre d'enfants à charge.\n",
    "- Hugo, 21 ans, gagnant 1400€/mois et n’ayant aucun enfant."
   ]
  },
  {
   "cell_type": "code",
   "execution_count": 39,
   "metadata": {},
   "outputs": [
    {
     "name": "stdout",
     "output_type": "stream",
     "text": [
      "Liste:  [[21, 1400, 0], [54, 2800, 2], [27, 3700, 3]]\n",
      "Array numpy:\n",
      "[[  21 1400    0]\n",
      " [  54 2800    2]\n",
      " [  27 3700    3]]\n",
      "- dimensions: (3, 3)\n"
     ]
    }
   ],
   "source": [
    "hugo = [21, 1400, 0]\n",
    "richard = [54, 2800, 2]\n",
    "emilie = [27, 3700, 3]\n",
    "tableau = [hugo, richard, emilie]\n",
    "print(\"Liste: \", tableau)\n",
    "\n",
    "array = np.array(tableau)\n",
    "print(f\"Array numpy:\\n{array}\\n- dimensions: {array.shape}\")"
   ]
  },
  {
   "cell_type": "markdown",
   "metadata": {},
   "source": [
    "Pour rajouter un nouveau client utiliser ```np.vstack(array, client)``` :"
   ]
  },
  {
   "cell_type": "code",
   "execution_count": 40,
   "metadata": {},
   "outputs": [
    {
     "data": {
      "text/plain": [
       "array([[  21, 1400,    0],\n",
       "       [  54, 2800,    2],\n",
       "       [  27, 3700,    3],\n",
       "       [  31, 1900,    1]])"
      ]
     },
     "execution_count": 40,
     "metadata": {},
     "output_type": "execute_result"
    }
   ],
   "source": [
    "louise = [31, 1900, 1]\n",
    "np.vstack((array, louise))"
   ]
  },
  {
   "cell_type": "markdown",
   "metadata": {},
   "source": [
    "Il est possible de créer des tableaux en *bien plus que 2 dimensions*. Par exemple, pour un tableau en 3D il suffira d’utiliser une liste de listes de listes."
   ]
  },
  {
   "cell_type": "code",
   "execution_count": 41,
   "metadata": {},
   "outputs": [
    {
     "data": {
      "text/plain": [
       "array([[1., 1., 1., 1., 1.],\n",
       "       [1., 1., 1., 1., 1.],\n",
       "       [1., 1., 1., 1., 1.]])"
      ]
     },
     "execution_count": 41,
     "metadata": {},
     "output_type": "execute_result"
    }
   ],
   "source": [
    "# un tableau de 3x5 rempli de 1\n",
    "np.ones((3, 5))"
   ]
  },
  {
   "cell_type": "code",
   "execution_count": 42,
   "metadata": {},
   "outputs": [
    {
     "data": {
      "text/plain": [
       "array([[0., 0., 0., 0.],\n",
       "       [0., 0., 0., 0.],\n",
       "       [0., 0., 0., 0.],\n",
       "       [0., 0., 0., 0.]])"
      ]
     },
     "execution_count": 42,
     "metadata": {},
     "output_type": "execute_result"
    }
   ],
   "source": [
    "# un tableau de 4 lignes et de 4 colonnes contenant que des 0\n",
    "np.zeros((4, 4))"
   ]
  },
  {
   "cell_type": "code",
   "execution_count": 43,
   "metadata": {},
   "outputs": [
    {
     "data": {
      "text/plain": [
       "array([0, 1, 2, 3, 4, 5, 6, 7, 8, 9])"
      ]
     },
     "execution_count": 43,
     "metadata": {},
     "output_type": "execute_result"
    }
   ],
   "source": [
    "# un tableau contenant une suite lineaire de 0 a 9 :\n",
    "np.arange(0, 10)"
   ]
  },
  {
   "cell_type": "code",
   "execution_count": 44,
   "metadata": {},
   "outputs": [
    {
     "data": {
      "text/plain": [
       "array([[2, 1, 5],\n",
       "       [9, 9, 2],\n",
       "       [2, 2, 3]])"
      ]
     },
     "execution_count": 44,
     "metadata": {},
     "output_type": "execute_result"
    }
   ],
   "source": [
    "# un tableau de 3x3 rempli de valeurs aléatoires entières, comprises entre 1 et 10\n",
    "np.random.randint(1, 10, size=(3, 3))"
   ]
  },
  {
   "cell_type": "markdown",
   "metadata": {},
   "source": [
    "#### <ins>Analogie entre les arrays et les matrices</ins>\n",
    "\n",
    "Les tableaux, matérialisés par des arrays NumPy, portent le nom de **matrices**, en mathématiques. Le but premier de NumPy, avant même toutes ses applications dans le domaine de la data, est de *proposer des outils pour manipuler ces matrices et effectuer ce qu’on appelle des **calculs matriciels***.\n",
    "> Les matrices sont une composante essentielle de l’algèbre linéaire. Elles permettent différents type de calculs."
   ]
  },
  {
   "cell_type": "code",
   "execution_count": 45,
   "metadata": {},
   "outputs": [
    {
     "data": {
      "text/plain": [
       "array([[ 6, 12],\n",
       "       [18, 24]])"
      ]
     },
     "execution_count": 45,
     "metadata": {},
     "output_type": "execute_result"
    }
   ],
   "source": [
    "A = np.array([[1, 2], [3, 4]])\n",
    "B = np.array([[5, 10], [15, 20]])\n",
    "C = np.array([[2, 4, 6], [8, 10, 12]])\n",
    "\n",
    "A+B  #-> [1 + 5, 2 + 10], [3 + 15, 4 + 20] "
   ]
  },
  {
   "cell_type": "markdown",
   "metadata": {},
   "source": [
    "Il est également possible de faire une multiplication terme à terme via l’opérateur  ```*``` , comme avec une multiplication normale : ```A*B```"
   ]
  },
  {
   "cell_type": "code",
   "execution_count": 46,
   "metadata": {},
   "outputs": [
    {
     "data": {
      "text/plain": [
       "array([[ 5, 20],\n",
       "       [45, 80]])"
      ]
     },
     "execution_count": 46,
     "metadata": {},
     "output_type": "execute_result"
    }
   ],
   "source": [
    "A = np.array([[1, 2], [3, 4]])\n",
    "B = np.array([[5, 10], [15, 20]])\n",
    "\n",
    "A * B"
   ]
  },
  {
   "cell_type": "markdown",
   "metadata": {},
   "source": [
    "## Créer des data frames avec Pandas.\n",
    "---\n"
   ]
  },
  {
   "cell_type": "markdown",
   "metadata": {},
   "source": [
    "## Construire des data visualisations avec Matplotlib et Seaborn.\n",
    "---"
   ]
  }
 ],
 "metadata": {
  "kernelspec": {
   "display_name": "Python 3",
   "language": "python",
   "name": "python3"
  },
  "language_info": {
   "codemirror_mode": {
    "name": "ipython",
    "version": 3
   },
   "file_extension": ".py",
   "mimetype": "text/x-python",
   "name": "python",
   "nbconvert_exporter": "python",
   "pygments_lexer": "ipython3",
   "version": "3.12.7"
  }
 },
 "nbformat": 4,
 "nbformat_minor": 2
}
